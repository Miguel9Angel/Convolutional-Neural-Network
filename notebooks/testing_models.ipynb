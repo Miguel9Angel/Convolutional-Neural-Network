{
 "cells": [
  {
   "cell_type": "markdown",
   "id": "f97a59d4",
   "metadata": {},
   "source": [
    "##### <font color=#A0A0A0>\n",
    "##### ════════════════════════════════════════════════════════\n",
    "#####     🦾🤖 **CREATING A NEURAL NETWORK FROM SCRATCH**\n",
    "##### ════════════════════════════════════════════════════════ </font>"
   ]
  },
  {
   "cell_type": "markdown",
   "id": "d0f5fe43",
   "metadata": {},
   "source": [
    "#### 🎯 Project Objetive\n",
    "Make a general neural network with some of the most important configurations. Test it with different data sets and track it's performance with differents hyperparameters"
   ]
  },
  {
   "cell_type": "code",
   "execution_count": 103,
   "id": "6026259e",
   "metadata": {},
   "outputs": [],
   "source": [
    "#import used pakages\n",
    "import sys\n",
    "import os\n",
    "import random\n",
    "\n",
    "if 'convolutional_net' in sys.modules:\n",
    "    del sys.modules['convolutional_net']\n",
    "    \n",
    "sys.path.append(os.path.join(os.path.dirname(os.getcwd()), 'src'))\n",
    "from keras.datasets import mnist\n",
    "from keras.datasets import fashion_mnist\n",
    "import numpy as np \n",
    "from sklearn.model_selection import train_test_split\n",
    "from convolutional_net import Network,ConvLayer ,PoolingLayer, FlattenLayer, DenseLayer\n",
    "import matplotlib.pyplot as plt\n",
    "from tensorflow.keras.utils import to_categorical"
   ]
  },
  {
   "cell_type": "code",
   "execution_count": 104,
   "id": "bcdce9b7",
   "metadata": {},
   "outputs": [],
   "source": [
    "(x_train, y_train), (x_test, y_test) = mnist.load_data()\n",
    "\n",
    "x_train = x_train.astype('float32')/255\n",
    "x_test = x_test.astype('float32')/255\n",
    "\n",
    "y_train = to_categorical(y_train, num_classes=10)\n",
    "y_test = to_categorical(y_test, num_classes=10)"
   ]
  },
  {
   "cell_type": "code",
   "execution_count": 105,
   "id": "18130c9a",
   "metadata": {},
   "outputs": [
    {
     "name": "stdout",
     "output_type": "stream",
     "text": [
      "(29999, 13, 4)\n",
      "(1559948,)\n"
     ]
    },
    {
     "ename": "IndexError",
     "evalue": "tuple index out of range",
     "output_type": "error",
     "traceback": [
      "\u001b[1;31m---------------------------------------------------------------------------\u001b[0m",
      "\u001b[1;31mIndexError\u001b[0m                                Traceback (most recent call last)",
      "Cell \u001b[1;32mIn[105], line 10\u001b[0m\n\u001b[0;32m      1\u001b[0m layers \u001b[38;5;241m=\u001b[39m [\n\u001b[0;32m      2\u001b[0m     ConvLayer(kernel_size\u001b[38;5;241m=\u001b[39m\u001b[38;5;241m2\u001b[39m, filters\u001b[38;5;241m=\u001b[39m\u001b[38;5;241m4\u001b[39m, padding\u001b[38;5;241m=\u001b[39m\u001b[38;5;241m1\u001b[39m),\n\u001b[0;32m      3\u001b[0m     PoolingLayer(\u001b[38;5;241m2\u001b[39m),\n\u001b[1;32m   (...)\u001b[0m\n\u001b[0;32m      6\u001b[0m     DenseLayer(\u001b[38;5;241m10\u001b[39m, activation\u001b[38;5;241m=\u001b[39m\u001b[38;5;124m'\u001b[39m\u001b[38;5;124msoftmax\u001b[39m\u001b[38;5;124m'\u001b[39m)\n\u001b[0;32m      7\u001b[0m ]\n\u001b[0;32m      9\u001b[0m model \u001b[38;5;241m=\u001b[39m Network(layers)\n\u001b[1;32m---> 10\u001b[0m \u001b[43mmodel\u001b[49m\u001b[38;5;241;43m.\u001b[39;49m\u001b[43mtrain\u001b[49m\u001b[43m(\u001b[49m\u001b[43mx_train\u001b[49m\u001b[43m,\u001b[49m\u001b[43m \u001b[49m\u001b[43my_train\u001b[49m\u001b[43m,\u001b[49m\u001b[43m \u001b[49m\u001b[38;5;241;43m20\u001b[39;49m\u001b[43m)\u001b[49m\n",
      "File \u001b[1;32mc:\\Users\\konec\\Documents\\DELETE\\Job_Projects\\Convolutional-Neural-Network\\src\\convolutional_net.py:20\u001b[0m, in \u001b[0;36mNetwork.train\u001b[1;34m(self, X, y, epochs)\u001b[0m\n\u001b[0;32m     18\u001b[0m \u001b[38;5;28;01mdef\u001b[39;00m\u001b[38;5;250m \u001b[39m\u001b[38;5;21mtrain\u001b[39m(\u001b[38;5;28mself\u001b[39m, X, y, epochs):\n\u001b[0;32m     19\u001b[0m     \u001b[38;5;28;01mfor\u001b[39;00m epoch \u001b[38;5;129;01min\u001b[39;00m \u001b[38;5;28mrange\u001b[39m(epochs):\n\u001b[1;32m---> 20\u001b[0m         y_pred \u001b[38;5;241m=\u001b[39m \u001b[38;5;28;43mself\u001b[39;49m\u001b[38;5;241;43m.\u001b[39;49m\u001b[43mforward\u001b[49m\u001b[43m(\u001b[49m\u001b[43mX\u001b[49m\u001b[43m)\u001b[49m\n\u001b[0;32m     22\u001b[0m         loss \u001b[38;5;241m=\u001b[39m \u001b[38;5;28mself\u001b[39m\u001b[38;5;241m.\u001b[39mloss_fn\u001b[38;5;241m.\u001b[39mforward(y, y_pred)\n\u001b[0;32m     24\u001b[0m         grad \u001b[38;5;241m=\u001b[39m \u001b[38;5;28mself\u001b[39m\u001b[38;5;241m.\u001b[39mloss_fn\u001b[38;5;241m.\u001b[39mbackward(y, y_pred)\n",
      "File \u001b[1;32mc:\\Users\\konec\\Documents\\DELETE\\Job_Projects\\Convolutional-Neural-Network\\src\\convolutional_net.py:11\u001b[0m, in \u001b[0;36mNetwork.forward\u001b[1;34m(self, X)\u001b[0m\n\u001b[0;32m      9\u001b[0m out \u001b[38;5;241m=\u001b[39m X\n\u001b[0;32m     10\u001b[0m \u001b[38;5;28;01mfor\u001b[39;00m layer \u001b[38;5;129;01min\u001b[39;00m \u001b[38;5;28mself\u001b[39m\u001b[38;5;241m.\u001b[39mlayers:\n\u001b[1;32m---> 11\u001b[0m     out \u001b[38;5;241m=\u001b[39m \u001b[43mlayer\u001b[49m\u001b[38;5;241;43m.\u001b[39;49m\u001b[43mforward\u001b[49m\u001b[43m(\u001b[49m\u001b[43mout\u001b[49m\u001b[43m)\u001b[49m\n\u001b[0;32m     12\u001b[0m \u001b[38;5;28;01mreturn\u001b[39;00m out\n",
      "File \u001b[1;32mc:\\Users\\konec\\Documents\\DELETE\\Job_Projects\\Convolutional-Neural-Network\\src\\convolutional_net.py:229\u001b[0m, in \u001b[0;36mDenseLayer.forward\u001b[1;34m(self, input_data)\u001b[0m\n\u001b[0;32m    227\u001b[0m input_shape \u001b[38;5;241m=\u001b[39m input_data\u001b[38;5;241m.\u001b[39mshape\n\u001b[0;32m    228\u001b[0m \u001b[38;5;28mprint\u001b[39m(input_shape)\n\u001b[1;32m--> 229\u001b[0m \u001b[38;5;28mself\u001b[39m\u001b[38;5;241m.\u001b[39mweights \u001b[38;5;241m=\u001b[39m np\u001b[38;5;241m.\u001b[39mrandom\u001b[38;5;241m.\u001b[39mrandn(\u001b[43minput_shape\u001b[49m\u001b[43m[\u001b[49m\u001b[38;5;241;43m1\u001b[39;49m\u001b[43m]\u001b[49m, \u001b[38;5;28mself\u001b[39m\u001b[38;5;241m.\u001b[39mneurons)\u001b[38;5;241m/\u001b[39mnp\u001b[38;5;241m.\u001b[39msqrt(input_shape) \n\u001b[0;32m    230\u001b[0m \u001b[38;5;28mself\u001b[39m\u001b[38;5;241m.\u001b[39mbiases \u001b[38;5;241m=\u001b[39m np\u001b[38;5;241m.\u001b[39mzeros((\u001b[38;5;241m1\u001b[39m, \u001b[38;5;28mself\u001b[39m\u001b[38;5;241m.\u001b[39mneurons))\n\u001b[0;32m    232\u001b[0m \u001b[38;5;28mself\u001b[39m\u001b[38;5;241m.\u001b[39minput \u001b[38;5;241m=\u001b[39m input_data\n",
      "\u001b[1;31mIndexError\u001b[0m: tuple index out of range"
     ]
    }
   ],
   "source": [
    "layers = [\n",
    "    ConvLayer(kernel_size=2, filters=4, padding=1),\n",
    "    PoolingLayer(2),\n",
    "    FlattenLayer(),\n",
    "    DenseLayer(128, activation='relu'),\n",
    "    DenseLayer(10, activation='softmax')\n",
    "]\n",
    "\n",
    "model = Network(layers)\n",
    "model.train(x_train, y_train, 20)"
   ]
  },
  {
   "cell_type": "markdown",
   "id": "5de67a50",
   "metadata": {},
   "source": [
    "#### <font color=#A0A0A0> **🔘 Selection of hyperparameters**</font>"
   ]
  },
  {
   "cell_type": "markdown",
   "id": "86d5f69c",
   "metadata": {},
   "source": [
    "#### <font color=#A0A0A0> **🧐 Performance Summary**</font>"
   ]
  },
  {
   "cell_type": "markdown",
   "id": "60063419",
   "metadata": {},
   "source": [
    "#### <font color=#A0A0A0> **🧐✅ Conclusions**</font>"
   ]
  },
  {
   "cell_type": "code",
   "execution_count": null,
   "id": "93d579b8",
   "metadata": {},
   "outputs": [],
   "source": [
    "(X_train, y_train), (X_test, y_test) = mnist.load_data()"
   ]
  },
  {
   "cell_type": "code",
   "execution_count": null,
   "id": "207916fb",
   "metadata": {},
   "outputs": [
    {
     "data": {
      "text/plain": [
       "(28, 28)"
      ]
     },
     "execution_count": 51,
     "metadata": {},
     "output_type": "execute_result"
    }
   ],
   "source": [
    "X_train[0].shape"
   ]
  },
  {
   "cell_type": "code",
   "execution_count": null,
   "id": "f7a5a62e",
   "metadata": {},
   "outputs": [
    {
     "ename": "NameError",
     "evalue": "name 'conv2d' is not defined",
     "output_type": "error",
     "traceback": [
      "\u001b[1;31m---------------------------------------------------------------------------\u001b[0m",
      "\u001b[1;31mNameError\u001b[0m                                 Traceback (most recent call last)",
      "Cell \u001b[1;32mIn[52], line 3\u001b[0m\n\u001b[0;32m      1\u001b[0m image \u001b[38;5;241m=\u001b[39m np\u001b[38;5;241m.\u001b[39mrandom\u001b[38;5;241m.\u001b[39mrand(\u001b[38;5;241m4\u001b[39m, \u001b[38;5;241m4\u001b[39m)\n\u001b[0;32m      2\u001b[0m kernel \u001b[38;5;241m=\u001b[39m np\u001b[38;5;241m.\u001b[39mrandom\u001b[38;5;241m.\u001b[39mnormal(loc\u001b[38;5;241m=\u001b[39m\u001b[38;5;241m0\u001b[39m, scale\u001b[38;5;241m=\u001b[39m\u001b[38;5;241m1\u001b[39m, size\u001b[38;5;241m=\u001b[39m(\u001b[38;5;241m2\u001b[39m, \u001b[38;5;241m2\u001b[39m))\n\u001b[1;32m----> 3\u001b[0m \u001b[43mconv2d\u001b[49m(image, kernel)\n",
      "\u001b[1;31mNameError\u001b[0m: name 'conv2d' is not defined"
     ]
    }
   ],
   "source": [
    "image = np.random.rand(4, 4)\n",
    "kernel = np.random.normal(loc=0, scale=1, size=(2, 2))\n",
    "conv2d(image, kernel)"
   ]
  },
  {
   "cell_type": "code",
   "execution_count": null,
   "id": "29746d2e",
   "metadata": {},
   "outputs": [],
   "source": [
    "input = np.random.normal(loc=0, scale=1, size=(2, 4, 4))\n",
    "input_shape = input.shape\n",
    "output_gradient = np.random.normal(loc=0, scale=1, size=(2, 2, 2))\n",
    "mask_gradient = np.array([[1,5,9,13,17,21,25,29]])"
   ]
  },
  {
   "cell_type": "code",
   "execution_count": null,
   "id": "d81e6460",
   "metadata": {},
   "outputs": [
    {
     "data": {
      "text/plain": [
       "array([[[-0.25448047,  1.3685209 ,  1.18835268, -0.28584127],\n",
       "        [ 0.11143585,  0.80550693,  0.04999749, -0.95414228],\n",
       "        [-1.05754925, -0.93536654,  1.77548076,  0.92877816],\n",
       "        [-2.11175165,  0.40510067, -0.08400911,  0.639113  ]],\n",
       "\n",
       "       [[-0.11087243, -0.61697637,  1.26038903, -0.8100615 ],\n",
       "        [-1.79421637,  0.22899221,  0.60927435, -1.09216568],\n",
       "        [ 0.69261861, -1.0546534 , -1.45315646, -0.20403805],\n",
       "        [ 0.45290048,  0.12487262, -0.71931902,  0.79659953]]])"
      ]
     },
     "execution_count": 19,
     "metadata": {},
     "output_type": "execute_result"
    }
   ],
   "source": [
    "input"
   ]
  },
  {
   "cell_type": "code",
   "execution_count": null,
   "id": "1198ac19",
   "metadata": {},
   "outputs": [
    {
     "data": {
      "text/plain": [
       "array([[[ 0.        ,  0.83034607,  0.        ,  0.        ],\n",
       "        [ 0.        , -1.30694064,  0.        ,  0.        ],\n",
       "        [ 0.        , -0.57266574,  0.        ,  0.        ],\n",
       "        [ 0.        ,  0.74008883,  0.        ,  0.        ]],\n",
       "\n",
       "       [[ 0.        ,  0.28749159,  0.        ,  0.        ],\n",
       "        [ 0.        , -1.17911572,  0.        ,  0.        ],\n",
       "        [ 0.        , -2.20168914,  0.        ,  0.        ],\n",
       "        [ 0.        ,  0.85098851,  0.        ,  0.        ]]])"
      ]
     },
     "execution_count": 21,
     "metadata": {},
     "output_type": "execute_result"
    }
   ],
   "source": [
    "mask_flat = mask_gradient.flatten()\n",
    "output_gradient_flat = output_gradient.flatten()\n",
    "input_gradient_flat = np.zeros(input_shape).flatten()\n",
    "\n",
    "for i in range(len(output_gradient_flat)):\n",
    "    gradient_value = output_gradient_flat[i]\n",
    "    max_index_flat = mask_flat[i]\n",
    "    input_gradient_flat[max_index_flat] = gradient_value\n",
    "\n",
    "input_gradient = input_gradient_flat.reshape(input_shape)\n",
    "input_gradient"
   ]
  },
  {
   "cell_type": "code",
   "execution_count": null,
   "id": "82a0aa56",
   "metadata": {},
   "outputs": [
    {
     "data": {
      "text/plain": [
       "(4, 4, 2)"
      ]
     },
     "execution_count": 16,
     "metadata": {},
     "output_type": "execute_result"
    }
   ],
   "source": [
    "input_shape"
   ]
  },
  {
   "cell_type": "code",
   "execution_count": null,
   "id": "5f322a22",
   "metadata": {},
   "outputs": [
    {
     "data": {
      "text/plain": [
       "0"
      ]
     },
     "execution_count": 32,
     "metadata": {},
     "output_type": "execute_result"
    }
   ],
   "source": [
    "2%2"
   ]
  },
  {
   "cell_type": "code",
   "execution_count": null,
   "id": "b815e3eb",
   "metadata": {},
   "outputs": [
    {
     "data": {
      "text/plain": [
       "2"
      ]
     },
     "execution_count": 30,
     "metadata": {},
     "output_type": "execute_result"
    }
   ],
   "source": [
    "a = np.array([[7,1],[8,6]])\n",
    "np.argmax(a)"
   ]
  },
  {
   "cell_type": "code",
   "execution_count": null,
   "id": "4f64ccfa",
   "metadata": {},
   "outputs": [
    {
     "data": {
      "text/plain": [
       "1"
      ]
     },
     "execution_count": 23,
     "metadata": {},
     "output_type": "execute_result"
    }
   ],
   "source": [
    "3%2"
   ]
  },
  {
   "cell_type": "code",
   "execution_count": null,
   "metadata": {},
   "outputs": [],
   "source": []
  },
  {
   "cell_type": "code",
   "execution_count": null,
   "id": "d9ff8615",
   "metadata": {},
   "outputs": [
    {
     "data": {
      "text/plain": [
       "array([[ 0.        ,  0.        ,  0.        ,  0.        ,  0.        ,\n",
       "         0.        ],\n",
       "       [ 0.        ,  0.        ,  0.        ,  0.        ,  0.        ,\n",
       "         0.        ],\n",
       "       [ 0.        ,  0.        ,  0.72371297,  0.15031481,  0.        ,\n",
       "         0.        ],\n",
       "       [ 0.        ,  0.        , -0.62619571,  1.11849715,  0.        ,\n",
       "         0.        ],\n",
       "       [ 0.        ,  0.        ,  0.        ,  0.        ,  0.        ,\n",
       "         0.        ],\n",
       "       [ 0.        ,  0.        ,  0.        ,  0.        ,  0.        ,\n",
       "         0.        ]])"
      ]
     },
     "execution_count": 7,
     "metadata": {},
     "output_type": "execute_result"
    }
   ],
   "source": [
    "import numpy as np\n",
    "layers=2\n",
    "weights = np.random.randn(layers,layers)/np.sqrt(layers)\n",
    "np.pad(weights, 2, mode='constant')"
   ]
  },
  {
   "cell_type": "code",
   "execution_count": null,
   "id": "69e6f09d",
   "metadata": {},
   "outputs": [
    {
     "data": {
      "text/plain": [
       "6"
      ]
     },
     "execution_count": 15,
     "metadata": {},
     "output_type": "execute_result"
    }
   ],
   "source": [
    "a = np.array([[[1,2],[1,6],[9,5]],[[11,2],[1,6],[9,10]]])\n",
    "np.argmax(a)"
   ]
  },
  {
   "cell_type": "code",
   "execution_count": null,
   "id": "51b3fe56",
   "metadata": {},
   "outputs": [
    {
     "data": {
      "text/plain": [
       "array([[0.7525783 , 0.99427284],\n",
       "       [0.78414284, 0.68565595]])"
      ]
     },
     "execution_count": 22,
     "metadata": {},
     "output_type": "execute_result"
    }
   ],
   "source": [
    "pool_size = 2\n",
    "data_rows, data_cols = data.shape\n",
    "pool_data_rows = data_rows//pool_size\n",
    "pool_data_cols = data_cols//pool_size\n",
    "\n",
    "max_pooling = np.zeros((pool_data_rows, pool_data_cols))\n",
    "\n",
    "for i in range(0, data_rows - pool_size+1, pool_size):\n",
    "    for j in range(0, data_cols - pool_size+1, pool_size):\n",
    "        a = i//pool_size\n",
    "        b = j//pool_size\n",
    "        max_pooling[a, b] = np.max(data[i:i+pool_size, j:j+pool_size])\n",
    "\n",
    "max_pooling"
   ]
  },
  {
   "cell_type": "code",
   "execution_count": null,
   "id": "6fc4ee1e",
   "metadata": {},
   "outputs": [
    {
     "data": {
      "text/plain": [
       "array([[ 0.95915174, -0.61178145],\n",
       "       [-0.52804561,  0.75621641]])"
      ]
     },
     "execution_count": 138,
     "metadata": {},
     "output_type": "execute_result"
    }
   ],
   "source": [
    "kernel"
   ]
  },
  {
   "cell_type": "code",
   "execution_count": null,
   "id": "613b0867",
   "metadata": {},
   "outputs": [],
   "source": [
    "def conv2d(image, kernel, padding=0, stride=1):\n",
    "    padding=1\n",
    "    rows_img, col_img = image.shape\n",
    "    padded_img = np.zeros((rows_img+padding*2,col_img+padding*2))\n",
    "    padded_rows_img, padded_cols_img = padded_img.shape\n",
    "    padded_img[padding:padded_rows_img-padding, padding:padded_cols_img-padding] = image\n",
    "    kernel_rows, kernel_cols = kernel.shape\n",
    "    img_filter_rows = padded_rows_img-kernel_rows\n",
    "    img_filter_cols = padded_cols_img-kernel_cols\n",
    "\n",
    "    image_filter = np.zeros((img_filter_rows, img_filter_cols))\n",
    "    \n",
    "    for i in range(padded_rows_img-kernel_rows+1):\n",
    "        for j in range(padded_cols_img-kernel_cols+1):\n",
    "            image_filter[i, j] = padded_img[i:img_filter_rows, j:img_filter_cols]*kernel\n",
    "\n",
    "    return image_filter"
   ]
  },
  {
   "cell_type": "code",
   "execution_count": null,
   "id": "1a251790",
   "metadata": {},
   "outputs": [
    {
     "data": {
      "text/plain": [
       "array([0., 0., 0., 0., 0.])"
      ]
     },
     "execution_count": 140,
     "metadata": {},
     "output_type": "execute_result"
    }
   ],
   "source": [
    "np.zeros(5)"
   ]
  },
  {
   "cell_type": "code",
   "execution_count": null,
   "id": "b1466da2",
   "metadata": {},
   "outputs": [
    {
     "data": {
      "text/plain": [
       "(30, 30)"
      ]
     },
     "execution_count": 141,
     "metadata": {},
     "output_type": "execute_result"
    }
   ],
   "source": [
    "image = X_train[0]\n",
    "padding=1\n",
    "col_img, rows_img = image.shape\n",
    "padded_img = np.zeros((rows_img+padding*2,col_img+padding*2))\n",
    "padded_img[padding:image.shape[0]+padding, padding:image.shape[1]+padding] = image\n",
    "padded_img.shape"
   ]
  },
  {
   "cell_type": "code",
   "execution_count": null,
   "id": "9ac177ee",
   "metadata": {},
   "outputs": [
    {
     "name": "stdout",
     "output_type": "stream",
     "text": [
      "0\n",
      "[[1, 2, 3], [1, 2, 3], [1, 2, 3]]\n",
      "1\n",
      "[[1, 1, 1], [1, 1, 1], [1, 1, 1]]\n",
      "2\n",
      "[[2, 2, 2], [2, 2, 2], [2, 2, 2]]\n"
     ]
    }
   ],
   "source": [
    "kernels = [[[1, 2,3],[1, 2,3],[1, 2,3]], [[1, 1, 1],[1, 1, 1],[1, 1, 1]], [[2,2,2],[2,2,2],[2,2,2]]]\n",
    "bias = np.array([1,2,3])\n",
    "\n",
    "for i, j in enumerate(kernels):\n",
    "    print(i)\n",
    "    print(j)"
   ]
  },
  {
   "cell_type": "code",
   "execution_count": null,
   "id": "4772bb90",
   "metadata": {},
   "outputs": [
    {
     "data": {
      "text/plain": [
       "array([1., 1., 1.])"
      ]
     },
     "execution_count": 7,
     "metadata": {},
     "output_type": "execute_result"
    }
   ],
   "source": [
    "np.array(bias>0, dtype=np.float64)"
   ]
  },
  {
   "cell_type": "code",
   "execution_count": null,
   "id": "5c9ea5c0",
   "metadata": {},
   "outputs": [
    {
     "name": "stdout",
     "output_type": "stream",
     "text": [
      "Original Image:\n",
      " [[0.2431393  0.51969049 0.05839192 0.7396655 ]\n",
      " [0.04077804 0.08833915 0.99933226 0.67465722]]\n",
      "\n",
      " Padded Image:\n",
      " [[0.         0.         0.         0.         0.         0.\n",
      "  0.         0.        ]\n",
      " [0.         0.         0.         0.         0.         0.\n",
      "  0.         0.        ]\n",
      " [0.         0.         0.2431393  0.51969049 0.05839192 0.7396655\n",
      "  0.         0.        ]\n",
      " [0.         0.         0.04077804 0.08833915 0.99933226 0.67465722\n",
      "  0.         0.        ]\n",
      " [0.         0.         0.         0.         0.         0.\n",
      "  0.         0.        ]\n",
      " [0.         0.         0.         0.         0.         0.\n",
      "  0.         0.        ]]\n"
     ]
    }
   ],
   "source": [
    "import numpy as np\n",
    "\n",
    "# 1. Define the image and padding\n",
    "# Example image (a 5x5 matrix)\n",
    "image = np.random.rand(2, 4)\n",
    "padding = 2\n",
    "\n",
    "# 2. Get the new dimensions of the padded image\n",
    "rows_img, cols_img = image.shape\n",
    "new_rows = rows_img + padding * 2\n",
    "new_cols = cols_img + padding * 2\n",
    "\n",
    "# 3. Create a new, larger matrix filled with zeros\n",
    "padded_image = np.zeros((new_rows, new_cols))\n",
    "\n",
    "# 4. Place the original image in the center of the new matrix\n",
    "# The slice starts at 'padding' and goes up to 'new_rows - padding'\n",
    "padded_image[padding:new_rows - padding, padding:new_cols - padding] = image\n",
    "\n",
    "print(\"Original Image:\\n\", image)\n",
    "print(\"\\n Padded Image:\\n\", padded_image)"
   ]
  },
  {
   "cell_type": "code",
   "execution_count": null,
   "id": "816ddef7",
   "metadata": {},
   "outputs": [
    {
     "data": {
      "text/plain": [
       "(6, 8)"
      ]
     },
     "execution_count": 143,
     "metadata": {},
     "output_type": "execute_result"
    }
   ],
   "source": [
    "padded_image.shape"
   ]
  }
 ],
 "metadata": {
  "kernelspec": {
   "display_name": "base",
   "language": "python",
   "name": "python3"
  },
  "language_info": {
   "codemirror_mode": {
    "name": "ipython",
    "version": 3
   },
   "file_extension": ".py",
   "mimetype": "text/x-python",
   "name": "python",
   "nbconvert_exporter": "python",
   "pygments_lexer": "ipython3",
   "version": "3.10.18"
  }
 },
 "nbformat": 4,
 "nbformat_minor": 5
}
