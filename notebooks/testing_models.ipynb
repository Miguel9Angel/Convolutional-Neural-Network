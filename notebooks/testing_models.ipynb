{
 "cells": [
  {
   "cell_type": "markdown",
   "id": "f97a59d4",
   "metadata": {},
   "source": [
    "##### <font color=#A0A0A0>\n",
    "##### ════════════════════════════════════════════════════════\n",
    "#####     🦾🤖 **CREATING A NEURAL NETWORK FROM SCRATCH**\n",
    "##### ════════════════════════════════════════════════════════ </font>"
   ]
  },
  {
   "cell_type": "markdown",
   "id": "d0f5fe43",
   "metadata": {},
   "source": [
    "#### 🎯 Project Objetive\n",
    "Make a general neural network with some of the most important configurations. Test it with different data sets and track it's performance with differents hyperparameters"
   ]
  },
  {
   "cell_type": "code",
   "execution_count": null,
   "id": "6026259e",
   "metadata": {},
   "outputs": [],
   "source": [
    "#import used pakages\n",
    "import sys\n",
    "import os\n",
    "import random\n",
    "\n",
    "if 'convolutional_net' in sys.modules:\n",
    "    del sys.modules['convolutional_net']\n",
    "    \n",
    "sys.path.append(os.path.join(os.path.dirname(os.getcwd()), 'src'))\n",
    "from keras.datasets import mnist\n",
    "from keras.datasets import fashion_mnist\n",
    "import numpy as np \n",
    "from sklearn.model_selection import train_test_split\n",
    "from convolutional_net import conv2d\n",
    "import matplotlib.pyplot as plt"
   ]
  },
  {
   "cell_type": "markdown",
   "id": "5de67a50",
   "metadata": {},
   "source": [
    "#### <font color=#A0A0A0> **🔘 Selection of hyperparameters**</font>"
   ]
  },
  {
   "cell_type": "markdown",
   "id": "86d5f69c",
   "metadata": {},
   "source": [
    "#### <font color=#A0A0A0> **🧐 Performance Summary**</font>"
   ]
  },
  {
   "cell_type": "markdown",
   "id": "60063419",
   "metadata": {},
   "source": [
    "#### <font color=#A0A0A0> **🧐✅ Conclusions**</font>"
   ]
  },
  {
   "cell_type": "code",
   "execution_count": 5,
   "id": "93d579b8",
   "metadata": {},
   "outputs": [],
   "source": [
    "(X_train, y_train), (X_test, y_test) = mnist.load_data()"
   ]
  },
  {
   "cell_type": "code",
   "execution_count": 12,
   "id": "207916fb",
   "metadata": {},
   "outputs": [
    {
     "data": {
      "text/plain": [
       "(28, 28)"
      ]
     },
     "execution_count": 12,
     "metadata": {},
     "output_type": "execute_result"
    }
   ],
   "source": [
    "X_train[0].shape"
   ]
  },
  {
   "cell_type": "code",
   "execution_count": 26,
   "id": "1a251790",
   "metadata": {},
   "outputs": [
    {
     "data": {
      "text/plain": [
       "array([0., 0., 0., 0., 0.])"
      ]
     },
     "execution_count": 26,
     "metadata": {},
     "output_type": "execute_result"
    }
   ],
   "source": [
    "np.zeros(5)"
   ]
  },
  {
   "cell_type": "code",
   "execution_count": 39,
   "id": "b1466da2",
   "metadata": {},
   "outputs": [
    {
     "data": {
      "text/plain": [
       "(30, 30)"
      ]
     },
     "execution_count": 39,
     "metadata": {},
     "output_type": "execute_result"
    }
   ],
   "source": [
    "image = X_train[0]\n",
    "padding=1\n",
    "col_img, rows_img = image.shape\n",
    "padded_img = np.zeros((rows_img+padding*2,col_img+padding*2))\n",
    "padded_img[padding:image.shape[0]+padding, padding:image.shape[1]+padding] = image\n",
    "padded_img.shape"
   ]
  },
  {
   "cell_type": "code",
   "execution_count": 28,
   "id": "5c9ea5c0",
   "metadata": {},
   "outputs": [
    {
     "name": "stdout",
     "output_type": "stream",
     "text": [
      "Original Image:\n",
      " [[0.42026681 0.37941979 0.64511583 0.46311797 0.43827757]\n",
      " [0.55291798 0.25895821 0.85993633 0.17200719 0.7664816 ]\n",
      " [0.16976807 0.55588955 0.9912672  0.23959979 0.85046617]\n",
      " [0.96903732 0.22480731 0.85697048 0.02305185 0.3447207 ]\n",
      " [0.41748223 0.17882347 0.03014081 0.39858623 0.85827677]]\n",
      "\n",
      " Padded Image:\n",
      " [[0.         0.         0.         0.         0.         0.\n",
      "  0.        ]\n",
      " [0.         0.42026681 0.37941979 0.64511583 0.46311797 0.43827757\n",
      "  0.        ]\n",
      " [0.         0.55291798 0.25895821 0.85993633 0.17200719 0.7664816\n",
      "  0.        ]\n",
      " [0.         0.16976807 0.55588955 0.9912672  0.23959979 0.85046617\n",
      "  0.        ]\n",
      " [0.         0.96903732 0.22480731 0.85697048 0.02305185 0.3447207\n",
      "  0.        ]\n",
      " [0.         0.41748223 0.17882347 0.03014081 0.39858623 0.85827677\n",
      "  0.        ]\n",
      " [0.         0.         0.         0.         0.         0.\n",
      "  0.        ]]\n"
     ]
    }
   ],
   "source": [
    "import numpy as np\n",
    "\n",
    "# 1. Define the image and padding\n",
    "# Example image (a 5x5 matrix)\n",
    "image = np.random.rand(5, 5)\n",
    "padding = 1\n",
    "\n",
    "# 2. Get the new dimensions of the padded image\n",
    "rows_img, cols_img = image.shape\n",
    "new_rows = rows_img + padding * 2\n",
    "new_cols = cols_img + padding * 2\n",
    "\n",
    "# 3. Create a new, larger matrix filled with zeros\n",
    "padded_image = np.zeros((new_rows, new_cols))\n",
    "\n",
    "# 4. Place the original image in the center of the new matrix\n",
    "# The slice starts at 'padding' and goes up to 'new_rows - padding'\n",
    "padded_image[padding:new_rows - padding, padding:new_cols - padding] = image\n",
    "\n",
    "print(\"Original Image:\\n\", image)\n",
    "print(\"\\n Padded Image:\\n\", padded_image)"
   ]
  }
 ],
 "metadata": {
  "kernelspec": {
   "display_name": "base",
   "language": "python",
   "name": "python3"
  },
  "language_info": {
   "codemirror_mode": {
    "name": "ipython",
    "version": 3
   },
   "file_extension": ".py",
   "mimetype": "text/x-python",
   "name": "python",
   "nbconvert_exporter": "python",
   "pygments_lexer": "ipython3",
   "version": "3.10.14"
  }
 },
 "nbformat": 4,
 "nbformat_minor": 5
}
