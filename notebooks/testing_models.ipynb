{
 "cells": [
  {
   "cell_type": "markdown",
   "id": "f97a59d4",
   "metadata": {},
   "source": [
    "##### <font color=#A0A0A0>\n",
    "##### ════════════════════════════════════════════════════════\n",
    "#####     🦾🤖 **CREATING A NEURAL NETWORK FROM SCRATCH**\n",
    "##### ════════════════════════════════════════════════════════ </font>"
   ]
  },
  {
   "cell_type": "markdown",
   "id": "d0f5fe43",
   "metadata": {},
   "source": [
    "#### 🎯 Project Objetive\n",
    "Make a general neural network with some of the most important configurations. Test it with different data sets and track it's performance with differents hyperparameters"
   ]
  },
  {
   "cell_type": "code",
   "execution_count": 2,
   "id": "6026259e",
   "metadata": {},
   "outputs": [
    {
     "ename": "SyntaxError",
     "evalue": "non-default argument follows default argument (convolutional_net.py, line 30)",
     "output_type": "error",
     "traceback": [
      "Traceback \u001b[1;36m(most recent call last)\u001b[0m:\n",
      "\u001b[0m  File \u001b[0;32mc:\\Users\\konec\\Miniconda3\\lib\\site-packages\\IPython\\core\\interactiveshell.py:3526\u001b[0m in \u001b[0;35mrun_code\u001b[0m\n    exec(code_obj, self.user_global_ns, self.user_ns)\u001b[0m\n",
      "\u001b[1;36m  Cell \u001b[1;32mIn[2], line 14\u001b[1;36m\n\u001b[1;33m    from convolutional_net import conv2d\u001b[1;36m\n",
      "\u001b[1;36m  File \u001b[1;32mc:\\Users\\konec\\Documents\\DELETE\\Job_Projects\\Convolutional-Neural-Network\\src\\convolutional_net.py:30\u001b[1;36m\u001b[0m\n\u001b[1;33m    def __init__(self, seed=42, data, kernel_size=1, filters=1, padding=0, stride=1):\u001b[0m\n\u001b[1;37m                                ^\u001b[0m\n\u001b[1;31mSyntaxError\u001b[0m\u001b[1;31m:\u001b[0m non-default argument follows default argument\n"
     ]
    }
   ],
   "source": [
    "#import used pakages\n",
    "import sys\n",
    "import os\n",
    "import random\n",
    "\n",
    "if 'convolutional_net' in sys.modules:\n",
    "    del sys.modules['convolutional_net']\n",
    "    \n",
    "sys.path.append(os.path.join(os.path.dirname(os.getcwd()), 'src'))\n",
    "from keras.datasets import mnist\n",
    "from keras.datasets import fashion_mnist\n",
    "import numpy as np \n",
    "from sklearn.model_selection import train_test_split\n",
    "from convolutional_net import conv2d\n",
    "import matplotlib.pyplot as plt"
   ]
  },
  {
   "cell_type": "markdown",
   "id": "5de67a50",
   "metadata": {},
   "source": [
    "#### <font color=#A0A0A0> **🔘 Selection of hyperparameters**</font>"
   ]
  },
  {
   "cell_type": "markdown",
   "id": "86d5f69c",
   "metadata": {},
   "source": [
    "#### <font color=#A0A0A0> **🧐 Performance Summary**</font>"
   ]
  },
  {
   "cell_type": "markdown",
   "id": "60063419",
   "metadata": {},
   "source": [
    "#### <font color=#A0A0A0> **🧐✅ Conclusions**</font>"
   ]
  },
  {
   "cell_type": "code",
   "execution_count": null,
   "id": "93d579b8",
   "metadata": {},
   "outputs": [],
   "source": [
    "(X_train, y_train), (X_test, y_test) = mnist.load_data()"
   ]
  },
  {
   "cell_type": "code",
   "execution_count": null,
   "id": "207916fb",
   "metadata": {},
   "outputs": [
    {
     "data": {
      "text/plain": [
       "(28, 28)"
      ]
     },
     "execution_count": 135,
     "metadata": {},
     "output_type": "execute_result"
    }
   ],
   "source": [
    "X_train[0].shape"
   ]
  },
  {
   "cell_type": "code",
   "execution_count": null,
   "id": "f7a5a62e",
   "metadata": {},
   "outputs": [
    {
     "data": {
      "text/plain": [
       "array([[ 0.16836206,  0.91708487,  0.57155967],\n",
       "       [ 0.43871061, -0.41442096,  0.18948589],\n",
       "       [ 0.70925232,  0.21911602,  0.59589066]])"
      ]
     },
     "execution_count": 136,
     "metadata": {},
     "output_type": "execute_result"
    }
   ],
   "source": [
    "image = np.random.rand(4, 4)\n",
    "kernel = np.random.normal(loc=0, scale=1, size=(2, 2))\n",
    "conv2d(image, kernel)"
   ]
  },
  {
   "cell_type": "code",
   "execution_count": null,
   "id": "29746d2e",
   "metadata": {},
   "outputs": [
    {
     "data": {
      "text/plain": [
       "array([[[1.30220072, 1.86377271],\n",
       "        [0.07109067, 0.825156  ]],\n",
       "\n",
       "       [[0.44227715, 0.69548004],\n",
       "        [1.00443613, 0.45836072]]])"
      ]
     },
     "execution_count": 145,
     "metadata": {},
     "output_type": "execute_result"
    }
   ],
   "source": [
    "np.random.normal(loc=0, scale=1, size=(2, 2, 2))"
   ]
  },
  {
   "cell_type": "code",
   "execution_count": null,
   "id": "d9ff8615",
   "metadata": {},
   "outputs": [
    {
     "data": {
      "text/plain": [
       "array([ 1.50672703,  0.64287111, -0.59387422,  0.06053933])"
      ]
     },
     "execution_count": 7,
     "metadata": {},
     "output_type": "execute_result"
    }
   ],
   "source": [
    "import numpy as np\n",
    "layers=4\n",
    "weights = np.random.randn(1,layers)/np.sqrt(layers)\n",
    "weights"
   ]
  },
  {
   "cell_type": "code",
   "execution_count": 15,
   "id": "69e6f09d",
   "metadata": {},
   "outputs": [
    {
     "data": {
      "text/plain": [
       "6"
      ]
     },
     "execution_count": 15,
     "metadata": {},
     "output_type": "execute_result"
    }
   ],
   "source": [
    "a = np.array([[[1,2],[1,6],[9,5]],[[11,2],[1,6],[9,10]]])\n",
    "np.argmax(a)"
   ]
  },
  {
   "cell_type": "code",
   "execution_count": 22,
   "id": "51b3fe56",
   "metadata": {},
   "outputs": [
    {
     "data": {
      "text/plain": [
       "array([[0.7525783 , 0.99427284],\n",
       "       [0.78414284, 0.68565595]])"
      ]
     },
     "execution_count": 22,
     "metadata": {},
     "output_type": "execute_result"
    }
   ],
   "source": [
    "pool_size = 2\n",
    "data_rows, data_cols = data.shape\n",
    "pool_data_rows = data_rows//pool_size\n",
    "pool_data_cols = data_cols//pool_size\n",
    "\n",
    "max_pooling = np.zeros((pool_data_rows, pool_data_cols))\n",
    "\n",
    "for i in range(0, data_rows - pool_size+1, pool_size):\n",
    "    for j in range(0, data_cols - pool_size+1, pool_size):\n",
    "        a = i//pool_size\n",
    "        b = j//pool_size\n",
    "        max_pooling[a, b] = np.max(data[i:i+pool_size, j:j+pool_size])\n",
    "\n",
    "max_pooling"
   ]
  },
  {
   "cell_type": "code",
   "execution_count": null,
   "id": "6fc4ee1e",
   "metadata": {},
   "outputs": [
    {
     "data": {
      "text/plain": [
       "array([[ 0.95915174, -0.61178145],\n",
       "       [-0.52804561,  0.75621641]])"
      ]
     },
     "execution_count": 138,
     "metadata": {},
     "output_type": "execute_result"
    }
   ],
   "source": [
    "kernel"
   ]
  },
  {
   "cell_type": "code",
   "execution_count": null,
   "id": "613b0867",
   "metadata": {},
   "outputs": [],
   "source": [
    "def conv2d(image, kernel, padding=0, stride=1):\n",
    "    padding=1\n",
    "    rows_img, col_img = image.shape\n",
    "    padded_img = np.zeros((rows_img+padding*2,col_img+padding*2))\n",
    "    padded_rows_img, padded_cols_img = padded_img.shape\n",
    "    padded_img[padding:padded_rows_img-padding, padding:padded_cols_img-padding] = image\n",
    "    kernel_rows, kernel_cols = kernel.shape\n",
    "    img_filter_rows = padded_rows_img-kernel_rows\n",
    "    img_filter_cols = padded_cols_img-kernel_cols\n",
    "\n",
    "    image_filter = np.zeros((img_filter_rows, img_filter_cols))\n",
    "    \n",
    "    for i in range(padded_rows_img-kernel_rows+1):\n",
    "        for j in range(padded_cols_img-kernel_cols+1):\n",
    "            image_filter[i, j] = padded_img[i:img_filter_rows, j:img_filter_cols]*kernel\n",
    "\n",
    "    return image_filter"
   ]
  },
  {
   "cell_type": "code",
   "execution_count": null,
   "id": "1a251790",
   "metadata": {},
   "outputs": [
    {
     "data": {
      "text/plain": [
       "array([0., 0., 0., 0., 0.])"
      ]
     },
     "execution_count": 140,
     "metadata": {},
     "output_type": "execute_result"
    }
   ],
   "source": [
    "np.zeros(5)"
   ]
  },
  {
   "cell_type": "code",
   "execution_count": null,
   "id": "b1466da2",
   "metadata": {},
   "outputs": [
    {
     "data": {
      "text/plain": [
       "(30, 30)"
      ]
     },
     "execution_count": 141,
     "metadata": {},
     "output_type": "execute_result"
    }
   ],
   "source": [
    "image = X_train[0]\n",
    "padding=1\n",
    "col_img, rows_img = image.shape\n",
    "padded_img = np.zeros((rows_img+padding*2,col_img+padding*2))\n",
    "padded_img[padding:image.shape[0]+padding, padding:image.shape[1]+padding] = image\n",
    "padded_img.shape"
   ]
  },
  {
   "cell_type": "code",
   "execution_count": null,
   "id": "9ac177ee",
   "metadata": {},
   "outputs": [
    {
     "name": "stdout",
     "output_type": "stream",
     "text": [
      "0\n",
      "[[1, 2, 3], [1, 2, 3], [1, 2, 3]]\n",
      "1\n",
      "[[1, 1, 1], [1, 1, 1], [1, 1, 1]]\n",
      "2\n",
      "[[2, 2, 2], [2, 2, 2], [2, 2, 2]]\n"
     ]
    }
   ],
   "source": [
    "kernels = [[[1, 2,3],[1, 2,3],[1, 2,3]], [[1, 1, 1],[1, 1, 1],[1, 1, 1]], [[2,2,2],[2,2,2],[2,2,2]]]\n",
    "bias = np.array([1,2,3])\n",
    "\n",
    "for i, j in enumerate(kernels):\n",
    "    print(i)\n",
    "    print(j)"
   ]
  },
  {
   "cell_type": "code",
   "execution_count": null,
   "id": "4772bb90",
   "metadata": {},
   "outputs": [
    {
     "data": {
      "text/plain": [
       "array([1., 1., 1.])"
      ]
     },
     "execution_count": 7,
     "metadata": {},
     "output_type": "execute_result"
    }
   ],
   "source": [
    "np.array(bias>0, dtype=np.float64)"
   ]
  },
  {
   "cell_type": "code",
   "execution_count": null,
   "id": "5c9ea5c0",
   "metadata": {},
   "outputs": [
    {
     "name": "stdout",
     "output_type": "stream",
     "text": [
      "Original Image:\n",
      " [[0.2431393  0.51969049 0.05839192 0.7396655 ]\n",
      " [0.04077804 0.08833915 0.99933226 0.67465722]]\n",
      "\n",
      " Padded Image:\n",
      " [[0.         0.         0.         0.         0.         0.\n",
      "  0.         0.        ]\n",
      " [0.         0.         0.         0.         0.         0.\n",
      "  0.         0.        ]\n",
      " [0.         0.         0.2431393  0.51969049 0.05839192 0.7396655\n",
      "  0.         0.        ]\n",
      " [0.         0.         0.04077804 0.08833915 0.99933226 0.67465722\n",
      "  0.         0.        ]\n",
      " [0.         0.         0.         0.         0.         0.\n",
      "  0.         0.        ]\n",
      " [0.         0.         0.         0.         0.         0.\n",
      "  0.         0.        ]]\n"
     ]
    }
   ],
   "source": [
    "import numpy as np\n",
    "\n",
    "# 1. Define the image and padding\n",
    "# Example image (a 5x5 matrix)\n",
    "image = np.random.rand(2, 4)\n",
    "padding = 2\n",
    "\n",
    "# 2. Get the new dimensions of the padded image\n",
    "rows_img, cols_img = image.shape\n",
    "new_rows = rows_img + padding * 2\n",
    "new_cols = cols_img + padding * 2\n",
    "\n",
    "# 3. Create a new, larger matrix filled with zeros\n",
    "padded_image = np.zeros((new_rows, new_cols))\n",
    "\n",
    "# 4. Place the original image in the center of the new matrix\n",
    "# The slice starts at 'padding' and goes up to 'new_rows - padding'\n",
    "padded_image[padding:new_rows - padding, padding:new_cols - padding] = image\n",
    "\n",
    "print(\"Original Image:\\n\", image)\n",
    "print(\"\\n Padded Image:\\n\", padded_image)"
   ]
  },
  {
   "cell_type": "code",
   "execution_count": null,
   "id": "816ddef7",
   "metadata": {},
   "outputs": [
    {
     "data": {
      "text/plain": [
       "(6, 8)"
      ]
     },
     "execution_count": 143,
     "metadata": {},
     "output_type": "execute_result"
    }
   ],
   "source": [
    "padded_image.shape"
   ]
  }
 ],
 "metadata": {
  "kernelspec": {
   "display_name": "base",
   "language": "python",
   "name": "python3"
  },
  "language_info": {
   "codemirror_mode": {
    "name": "ipython",
    "version": 3
   },
   "file_extension": ".py",
   "mimetype": "text/x-python",
   "name": "python",
   "nbconvert_exporter": "python",
   "pygments_lexer": "ipython3",
   "version": "3.10.18"
  }
 },
 "nbformat": 4,
 "nbformat_minor": 5
}
