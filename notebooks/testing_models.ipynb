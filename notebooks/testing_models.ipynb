{
 "cells": [
  {
   "cell_type": "markdown",
   "id": "f97a59d4",
   "metadata": {},
   "source": [
    "##### <font color=#A0A0A0>\n",
    "##### ════════════════════════════════════════════════════════\n",
    "#####     🦾🤖 **CREATING A NEURAL NETWORK FROM SCRATCH**\n",
    "##### ════════════════════════════════════════════════════════ </font>"
   ]
  },
  {
   "cell_type": "markdown",
   "id": "d0f5fe43",
   "metadata": {},
   "source": [
    "#### 🎯 Project Objetive\n",
    "Make a general neural network with some of the most important configurations. Test it with different data sets and track it's performance with differents hyperparameters"
   ]
  },
  {
   "cell_type": "code",
   "execution_count": 133,
   "id": "6026259e",
   "metadata": {},
   "outputs": [],
   "source": [
    "#import used pakages\n",
    "import sys\n",
    "import os\n",
    "import random\n",
    "\n",
    "if 'convolutional_net' in sys.modules:\n",
    "    del sys.modules['convolutional_net']\n",
    "    \n",
    "sys.path.append(os.path.join(os.path.dirname(os.getcwd()), 'src'))\n",
    "from keras.datasets import mnist\n",
    "from keras.datasets import fashion_mnist\n",
    "import numpy as np \n",
    "from sklearn.model_selection import train_test_split\n",
    "from convolutional_net import conv2d\n",
    "import matplotlib.pyplot as plt"
   ]
  },
  {
   "cell_type": "markdown",
   "id": "5de67a50",
   "metadata": {},
   "source": [
    "#### <font color=#A0A0A0> **🔘 Selection of hyperparameters**</font>"
   ]
  },
  {
   "cell_type": "markdown",
   "id": "86d5f69c",
   "metadata": {},
   "source": [
    "#### <font color=#A0A0A0> **🧐 Performance Summary**</font>"
   ]
  },
  {
   "cell_type": "markdown",
   "id": "60063419",
   "metadata": {},
   "source": [
    "#### <font color=#A0A0A0> **🧐✅ Conclusions**</font>"
   ]
  },
  {
   "cell_type": "code",
   "execution_count": 134,
   "id": "93d579b8",
   "metadata": {},
   "outputs": [],
   "source": [
    "(X_train, y_train), (X_test, y_test) = mnist.load_data()"
   ]
  },
  {
   "cell_type": "code",
   "execution_count": 135,
   "id": "207916fb",
   "metadata": {},
   "outputs": [
    {
     "data": {
      "text/plain": [
       "(28, 28)"
      ]
     },
     "execution_count": 135,
     "metadata": {},
     "output_type": "execute_result"
    }
   ],
   "source": [
    "X_train[0].shape"
   ]
  },
  {
   "cell_type": "code",
   "execution_count": 136,
   "id": "f7a5a62e",
   "metadata": {},
   "outputs": [
    {
     "data": {
      "text/plain": [
       "array([[ 0.16836206,  0.91708487,  0.57155967],\n",
       "       [ 0.43871061, -0.41442096,  0.18948589],\n",
       "       [ 0.70925232,  0.21911602,  0.59589066]])"
      ]
     },
     "execution_count": 136,
     "metadata": {},
     "output_type": "execute_result"
    }
   ],
   "source": [
    "image = np.random.rand(4, 4)\n",
    "kernel = np.random.normal(loc=0, scale=1, size=(2, 2))\n",
    "conv2d(image, kernel)"
   ]
  },
  {
   "cell_type": "code",
   "execution_count": 145,
   "id": "29746d2e",
   "metadata": {},
   "outputs": [
    {
     "data": {
      "text/plain": [
       "array([[[1.30220072, 1.86377271],\n",
       "        [0.07109067, 0.825156  ]],\n",
       "\n",
       "       [[0.44227715, 0.69548004],\n",
       "        [1.00443613, 0.45836072]]])"
      ]
     },
     "execution_count": 145,
     "metadata": {},
     "output_type": "execute_result"
    }
   ],
   "source": [
    "np.random.normal(loc=0, scale=1, size=(2, 2, 2))"
   ]
  },
  {
   "cell_type": "code",
   "execution_count": 137,
   "id": "51b3fe56",
   "metadata": {},
   "outputs": [
    {
     "data": {
      "text/plain": [
       "array([[0.85584187, 0.88627675, 0.5565247 , 0.11461032],\n",
       "       [0.44643865, 0.1658619 , 0.65466063, 0.59979546],\n",
       "       [0.82936283, 0.72720033, 0.27901601, 0.10029393],\n",
       "       [0.52739604, 0.84254235, 0.18145355, 0.64194016]])"
      ]
     },
     "execution_count": 137,
     "metadata": {},
     "output_type": "execute_result"
    }
   ],
   "source": [
    "image"
   ]
  },
  {
   "cell_type": "code",
   "execution_count": 138,
   "id": "6fc4ee1e",
   "metadata": {},
   "outputs": [
    {
     "data": {
      "text/plain": [
       "array([[ 0.95915174, -0.61178145],\n",
       "       [-0.52804561,  0.75621641]])"
      ]
     },
     "execution_count": 138,
     "metadata": {},
     "output_type": "execute_result"
    }
   ],
   "source": [
    "kernel"
   ]
  },
  {
   "cell_type": "code",
   "execution_count": 139,
   "id": "613b0867",
   "metadata": {},
   "outputs": [],
   "source": [
    "def conv2d(image, kernel, padding=0, stride=1):\n",
    "    padding=1\n",
    "    rows_img, col_img = image.shape\n",
    "    padded_img = np.zeros((rows_img+padding*2,col_img+padding*2))\n",
    "    padded_rows_img, padded_cols_img = padded_img.shape\n",
    "    padded_img[padding:padded_rows_img-padding, padding:padded_cols_img-padding] = image\n",
    "    kernel_rows, kernel_cols = kernel.shape\n",
    "    img_filter_rows = padded_rows_img-kernel_rows\n",
    "    img_filter_cols = padded_cols_img-kernel_cols\n",
    "\n",
    "    image_filter = np.zeros((img_filter_rows, img_filter_cols))\n",
    "    \n",
    "    for i in range(padded_rows_img-kernel_rows+1):\n",
    "        for j in range(padded_cols_img-kernel_cols+1):\n",
    "            image_filter[i, j] = padded_img[i:img_filter_rows, j:img_filter_cols]*kernel\n",
    "\n",
    "    return image_filter"
   ]
  },
  {
   "cell_type": "code",
   "execution_count": 140,
   "id": "1a251790",
   "metadata": {},
   "outputs": [
    {
     "data": {
      "text/plain": [
       "array([0., 0., 0., 0., 0.])"
      ]
     },
     "execution_count": 140,
     "metadata": {},
     "output_type": "execute_result"
    }
   ],
   "source": [
    "np.zeros(5)"
   ]
  },
  {
   "cell_type": "code",
   "execution_count": 141,
   "id": "b1466da2",
   "metadata": {},
   "outputs": [
    {
     "data": {
      "text/plain": [
       "(30, 30)"
      ]
     },
     "execution_count": 141,
     "metadata": {},
     "output_type": "execute_result"
    }
   ],
   "source": [
    "image = X_train[0]\n",
    "padding=1\n",
    "col_img, rows_img = image.shape\n",
    "padded_img = np.zeros((rows_img+padding*2,col_img+padding*2))\n",
    "padded_img[padding:image.shape[0]+padding, padding:image.shape[1]+padding] = image\n",
    "padded_img.shape"
   ]
  },
  {
   "cell_type": "code",
   "execution_count": 142,
   "id": "5c9ea5c0",
   "metadata": {},
   "outputs": [
    {
     "name": "stdout",
     "output_type": "stream",
     "text": [
      "Original Image:\n",
      " [[0.2431393  0.51969049 0.05839192 0.7396655 ]\n",
      " [0.04077804 0.08833915 0.99933226 0.67465722]]\n",
      "\n",
      " Padded Image:\n",
      " [[0.         0.         0.         0.         0.         0.\n",
      "  0.         0.        ]\n",
      " [0.         0.         0.         0.         0.         0.\n",
      "  0.         0.        ]\n",
      " [0.         0.         0.2431393  0.51969049 0.05839192 0.7396655\n",
      "  0.         0.        ]\n",
      " [0.         0.         0.04077804 0.08833915 0.99933226 0.67465722\n",
      "  0.         0.        ]\n",
      " [0.         0.         0.         0.         0.         0.\n",
      "  0.         0.        ]\n",
      " [0.         0.         0.         0.         0.         0.\n",
      "  0.         0.        ]]\n"
     ]
    }
   ],
   "source": [
    "import numpy as np\n",
    "\n",
    "# 1. Define the image and padding\n",
    "# Example image (a 5x5 matrix)\n",
    "image = np.random.rand(2, 4)\n",
    "padding = 2\n",
    "\n",
    "# 2. Get the new dimensions of the padded image\n",
    "rows_img, cols_img = image.shape\n",
    "new_rows = rows_img + padding * 2\n",
    "new_cols = cols_img + padding * 2\n",
    "\n",
    "# 3. Create a new, larger matrix filled with zeros\n",
    "padded_image = np.zeros((new_rows, new_cols))\n",
    "\n",
    "# 4. Place the original image in the center of the new matrix\n",
    "# The slice starts at 'padding' and goes up to 'new_rows - padding'\n",
    "padded_image[padding:new_rows - padding, padding:new_cols - padding] = image\n",
    "\n",
    "print(\"Original Image:\\n\", image)\n",
    "print(\"\\n Padded Image:\\n\", padded_image)"
   ]
  },
  {
   "cell_type": "code",
   "execution_count": 143,
   "id": "816ddef7",
   "metadata": {},
   "outputs": [
    {
     "data": {
      "text/plain": [
       "(6, 8)"
      ]
     },
     "execution_count": 143,
     "metadata": {},
     "output_type": "execute_result"
    }
   ],
   "source": [
    "padded_image.shape"
   ]
  }
 ],
 "metadata": {
  "kernelspec": {
   "display_name": "base",
   "language": "python",
   "name": "python3"
  },
  "language_info": {
   "codemirror_mode": {
    "name": "ipython",
    "version": 3
   },
   "file_extension": ".py",
   "mimetype": "text/x-python",
   "name": "python",
   "nbconvert_exporter": "python",
   "pygments_lexer": "ipython3",
   "version": "3.10.18"
  }
 },
 "nbformat": 4,
 "nbformat_minor": 5
}
